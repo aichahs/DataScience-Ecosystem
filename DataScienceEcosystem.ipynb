{
 "cells": [
  {
   "cell_type": "markdown",
   "id": "0b4b9cc1-6adf-47d1-9e8a-a0329579cfc8",
   "metadata": {},
   "source": [
    "# Data Science Tools and Ecosystem"
   ]
  },
  {
   "cell_type": "markdown",
   "id": "55888c79-56a8-49bb-9613-46f6d17e7c0b",
   "metadata": {},
   "source": [
    "in this notebook, Data Science Tools and Ecosystem are summarized "
   ]
  },
  {
   "cell_type": "markdown",
   "id": "7c937e53-9857-4f6d-8632-df61193b7a60",
   "metadata": {},
   "source": [
    "**Objectives :**\n",
    "- Popular languages \n",
    "- Libraries \n"
   ]
  },
  {
   "cell_type": "markdown",
   "id": "92cab18c-2ea6-4fd8-986a-150fc161ad21",
   "metadata": {},
   "source": [
    "Some of the popular languages that Data Scientists use are:\n",
    "1. Python\n",
    "2. R\n",
    "3. SQL"
   ]
  },
  {
   "cell_type": "markdown",
   "id": "2933bd4e-e07f-42c7-8591-3a33c4919c94",
   "metadata": {},
   "source": [
    "Some of the commonly used libraries used by Data Scientists include:\n",
    "1. NumPy\n",
    "2. Pandas\n",
    "3. Matplotlib\n",
    "   "
   ]
  },
  {
   "cell_type": "markdown",
   "id": "2a782cdd-53c5-4863-9e01-d5b8898efabb",
   "metadata": {},
   "source": [
    "|Data Science tools |\n",
    "|---------|\n",
    "|Anaconda |\n",
    "| Jupyter Notebook |\n",
    "| RStudio |"
   ]
  },
  {
   "cell_type": "markdown",
   "id": "b6e51208-fed9-468e-a8d4-4dd693e94706",
   "metadata": {},
   "source": [
    "### Below are a few examples of evaluating arithmetic expressions in Python"
   ]
  },
  {
   "cell_type": "code",
   "execution_count": 1,
   "id": "7e28667c-5a92-44d9-8d89-250e1446f311",
   "metadata": {},
   "outputs": [
    {
     "data": {
      "text/plain": [
       "17"
      ]
     },
     "execution_count": 1,
     "metadata": {},
     "output_type": "execute_result"
    }
   ],
   "source": [
    "# This a simple arithmetic expression to mutiply then add integers\n",
    "(3*4)+5"
   ]
  },
  {
   "cell_type": "code",
   "execution_count": 2,
   "id": "b5fdc2db-0c57-4758-ab66-7f3ba796b5f9",
   "metadata": {},
   "outputs": [
    {
     "name": "stdout",
     "output_type": "stream",
     "text": [
      "200 minutes is equal to 3.3333333333333335 hours.\n"
     ]
    }
   ],
   "source": [
    "# This will convert 200 minutes to hours by diving by 60\n",
    "minutes = 200\n",
    "hours_decimal = minutes / 60\n",
    "print(f\"{minutes} minutes is equal to {hours_decimal} hours.\")"
   ]
  },
  {
   "cell_type": "markdown",
   "id": "37f86535-e743-4430-bbb3-5dfd562d6094",
   "metadata": {},
   "source": [
    "## Author \n",
    "Aicha Houssam Eddine \n"
   ]
  },
  {
   "cell_type": "code",
   "execution_count": null,
   "id": "c8e3a8b3-04a8-4cb2-9b48-6191e916a47c",
   "metadata": {},
   "outputs": [],
   "source": []
  }
 ],
 "metadata": {
  "kernelspec": {
   "display_name": "anaconda-2024.02-py310",
   "language": "python",
   "name": "conda-env-anaconda-2024.02-py310-py"
  },
  "language_info": {
   "codemirror_mode": {
    "name": "ipython",
    "version": 3
   },
   "file_extension": ".py",
   "mimetype": "text/x-python",
   "name": "python",
   "nbconvert_exporter": "python",
   "pygments_lexer": "ipython3",
   "version": "3.10.14"
  }
 },
 "nbformat": 4,
 "nbformat_minor": 5
}
